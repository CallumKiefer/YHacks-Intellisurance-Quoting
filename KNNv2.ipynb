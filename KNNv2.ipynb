{
 "cells": [
  {
   "cell_type": "code",
   "execution_count": 44,
   "metadata": {},
   "outputs": [],
   "source": [
    "import datetime\n",
    "import numpy as np\n",
    "import pandas as pd\n",
    "from keras.layers import Input, Dense\n",
    "from keras.models import Model\n",
    "from sklearn import preprocessing\n",
    "from sklearn import neighbors as knn"
   ]
  },
  {
   "cell_type": "code",
   "execution_count": 2,
   "metadata": {
    "scrolled": true
   },
   "outputs": [],
   "source": [
    "data = pd.read_csv(\"extendedData.csv\").dropna()\n",
    "data.reset_index(drop=True, inplace=True)\n",
    "data = data.drop('Unnamed: 0', 1)\n",
    "data = data.drop('address', 1)\n",
    "data = data.drop('id', 1)\n",
    "data = data.drop('name', 1)\n",
    "data = data.drop('collection_id', 1)"
   ]
  },
  {
   "cell_type": "code",
   "execution_count": 3,
   "metadata": {},
   "outputs": [],
   "source": [
    "for j, k in enumerate(data[\"DOB\"]):\n",
    "    data.at[j, \"DOB\"] = datetime.datetime.now().year - int(data.at[j, \"DOB\"][:4])\n",
    "data.rename(columns={'DOB' : 'age'}, inplace=True)"
   ]
  },
  {
   "cell_type": "code",
   "execution_count": 4,
   "metadata": {
    "collapsed": true
   },
   "outputs": [],
   "source": [
    "le = preprocessing.LabelEncoder()"
   ]
  },
  {
   "cell_type": "code",
   "execution_count": 5,
   "metadata": {},
   "outputs": [],
   "source": [
    "le.fit(data['city'])\n",
    "data['city'] = le.transform(data['city'])\n",
    "le.fit(data['sex'])\n",
    "data['sex'] = le.transform(data['sex'])\n",
    "le.fit(data['state'])\n",
    "data['state'] = le.transform(data['state'])\n",
    "le.fit(data['MARITAL_STATUS'])\n",
    "data['MARITAL_STATUS'] = le.transform(data['MARITAL_STATUS'])\n",
    "le.fit(data['TOBACCO'])\n",
    "data['TOBACCO'] = le.transform(data['TOBACCO'])\n",
    "data['PURCHASED'] = [\"None\" if type(i)==float else i for i in list(data[\"PURCHASED\"])]\n",
    "le.fit(data['PURCHASED'])\n",
    "data['PURCHASED'] = le.transform(data['PURCHASED'])"
   ]
  },
  {
   "cell_type": "code",
   "execution_count": 29,
   "metadata": {},
   "outputs": [
    {
     "data": {
      "text/plain": [
       "Index(['city', 'age', 'longitude', 'sex', 'state', 'latitude',\n",
       "       'PEOPLE_COVERED', 'OPTIONAL_INSURED', 'ANNUAL_INCOME', 'MARITAL_STATUS',\n",
       "       'HEIGHT', 'WEIGHT', 'TOBACCO', 'GOLD', 'BRONZE', 'SILVER', 'PLATINUM',\n",
       "       'PURCHASED', 'S62.308', 'G80.4', 'R00.8', 'T85.622', 'Z91.010',\n",
       "       'T84.011', 'R04.2', 'G47.33', 'R00.0', 'R19.7', 'E11.65', 'B20.1',\n",
       "       'M05.10', 'F14.121', 'F10.121', 'N18.9'],\n",
       "      dtype='object')"
      ]
     },
     "execution_count": 29,
     "metadata": {},
     "output_type": "execute_result"
    }
   ],
   "source": [
    "data = data.apply(pd.to_numeric, errors='ignore')\n",
    "data.columns"
   ]
  },
  {
   "cell_type": "code",
   "execution_count": 65,
   "metadata": {},
   "outputs": [
    {
     "ename": "ValueError",
     "evalue": "Must provide either V or VI for Mahalanobis distance",
     "traceback": [
      "\u001b[1;31m---------------------------------------------------------------------------\u001b[0m",
      "\u001b[1;31mValueError\u001b[0m                                Traceback (most recent call last)",
      "\u001b[1;32m<ipython-input-65-3cec901f551d>\u001b[0m in \u001b[0;36m<module>\u001b[1;34m()\u001b[0m\n\u001b[0;32m      1\u001b[0m \u001b[0mmodel\u001b[0m \u001b[1;33m=\u001b[0m \u001b[0mknn\u001b[0m\u001b[1;33m.\u001b[0m\u001b[0mNearestNeighbors\u001b[0m\u001b[1;33m(\u001b[0m\u001b[0mn_neighbors\u001b[0m\u001b[1;33m=\u001b[0m\u001b[1;36m5\u001b[0m\u001b[1;33m,\u001b[0m \u001b[0mmetric\u001b[0m\u001b[1;33m=\u001b[0m\u001b[1;34m\"mahalanobis\"\u001b[0m\u001b[1;33m,\u001b[0m \u001b[0mn_jobs\u001b[0m\u001b[1;33m=\u001b[0m\u001b[1;36m2\u001b[0m\u001b[1;33m)\u001b[0m\u001b[1;33m\u001b[0m\u001b[0m\n\u001b[1;32m----> 2\u001b[1;33m \u001b[0mmodel\u001b[0m\u001b[1;33m.\u001b[0m\u001b[0mfit\u001b[0m\u001b[1;33m(\u001b[0m\u001b[0mdata\u001b[0m\u001b[1;33m[\u001b[0m\u001b[1;33m:\u001b[0m\u001b[1;36m40000\u001b[0m\u001b[1;33m]\u001b[0m\u001b[1;33m)\u001b[0m\u001b[1;33m\u001b[0m\u001b[0m\n\u001b[0m",
      "\u001b[1;32mC:\\ProgramData\\Anaconda3\\lib\\site-packages\\sklearn\\neighbors\\base.py\u001b[0m in \u001b[0;36mfit\u001b[1;34m(self, X, y)\u001b[0m\n\u001b[0;32m    797\u001b[0m             \u001b[1;32mor\u001b[0m \u001b[1;33m[\u001b[0m\u001b[0mn_samples\u001b[0m\u001b[1;33m,\u001b[0m \u001b[0mn_samples\u001b[0m\u001b[1;33m]\u001b[0m \u001b[1;32mif\u001b[0m \u001b[0mmetric\u001b[0m\u001b[1;33m=\u001b[0m\u001b[1;34m'precomputed'\u001b[0m\u001b[1;33m.\u001b[0m\u001b[1;33m\u001b[0m\u001b[0m\n\u001b[0;32m    798\u001b[0m         \"\"\"\n\u001b[1;32m--> 799\u001b[1;33m         \u001b[1;32mreturn\u001b[0m \u001b[0mself\u001b[0m\u001b[1;33m.\u001b[0m\u001b[0m_fit\u001b[0m\u001b[1;33m(\u001b[0m\u001b[0mX\u001b[0m\u001b[1;33m)\u001b[0m\u001b[1;33m\u001b[0m\u001b[0m\n\u001b[0m",
      "\u001b[1;32mC:\\ProgramData\\Anaconda3\\lib\\site-packages\\sklearn\\neighbors\\base.py\u001b[0m in \u001b[0;36m_fit\u001b[1;34m(self, X)\u001b[0m\n\u001b[0;32m    238\u001b[0m             self._tree = BallTree(X, self.leaf_size,\n\u001b[0;32m    239\u001b[0m                                   \u001b[0mmetric\u001b[0m\u001b[1;33m=\u001b[0m\u001b[0mself\u001b[0m\u001b[1;33m.\u001b[0m\u001b[0meffective_metric_\u001b[0m\u001b[1;33m,\u001b[0m\u001b[1;33m\u001b[0m\u001b[0m\n\u001b[1;32m--> 240\u001b[1;33m                                   **self.effective_metric_params_)\n\u001b[0m\u001b[0;32m    241\u001b[0m         \u001b[1;32melif\u001b[0m \u001b[0mself\u001b[0m\u001b[1;33m.\u001b[0m\u001b[0m_fit_method\u001b[0m \u001b[1;33m==\u001b[0m \u001b[1;34m'kd_tree'\u001b[0m\u001b[1;33m:\u001b[0m\u001b[1;33m\u001b[0m\u001b[0m\n\u001b[0;32m    242\u001b[0m             self._tree = KDTree(X, self.leaf_size,\n",
      "\u001b[1;32msklearn\\neighbors\\binary_tree.pxi\u001b[0m in \u001b[0;36msklearn.neighbors.ball_tree.BinaryTree.__init__ (sklearn\\neighbors\\ball_tree.c:9220)\u001b[1;34m()\u001b[0m\n",
      "\u001b[1;32msklearn\\neighbors\\dist_metrics.pyx\u001b[0m in \u001b[0;36msklearn.neighbors.dist_metrics.DistanceMetric.get_metric (sklearn\\neighbors\\dist_metrics.c:4821)\u001b[1;34m()\u001b[0m\n",
      "\u001b[1;32msklearn\\neighbors\\dist_metrics.pyx\u001b[0m in \u001b[0;36msklearn.neighbors.dist_metrics.MahalanobisDistance.__init__ (sklearn\\neighbors\\dist_metrics.c:8575)\u001b[1;34m()\u001b[0m\n",
      "\u001b[1;31mValueError\u001b[0m: Must provide either V or VI for Mahalanobis distance"
     ],
     "output_type": "error"
    }
   ],
   "source": [
    "model = knn.NearestNeighbors(n_neighbors=5)#, metric=\"mahalanobis\", n_jobs=2)\n",
    "model.fit(data[:40000])"
   ]
  },
  {
   "cell_type": "code",
   "execution_count": 47,
   "metadata": {},
   "outputs": [],
   "source": [
    "remaining_data = data[40000:] #random split, normalize data\n",
    "remaining_data.reset_index(drop=True, inplace=True)"
   ]
  },
  {
   "cell_type": "code",
   "execution_count": 63,
   "metadata": {},
   "outputs": [
    {
     "data": {
      "text/plain": [
       "(array([[  33.48133809,   38.44476557,   43.72642222,   58.67708241,\n",
       "           61.34329629],\n",
       "        [  68.98550572,  110.28599186,  119.94165248,  143.7810836 ,\n",
       "          148.56648343],\n",
       "        [  66.60330322,   70.81666471,   97.17509969,  133.77219442,\n",
       "          142.46052085],\n",
       "        ..., \n",
       "        [  61.20457499,   67.5203673 ,   75.98026059,   77.06490771,\n",
       "           78.49203781],\n",
       "        [  45.88027899,   75.69015788,  108.67842472,  109.73149047,\n",
       "          112.31651704],\n",
       "        [  13.45362405,   17.17556404,   19.62141687,   21.23676058,\n",
       "           22.75961335]]), array([[20746, 22309, 20836, 25407, 35688],\n",
       "        [19879, 23120, 39421, 28977,  1539],\n",
       "        [ 7189, 10154, 19150, 31476,  5789],\n",
       "        ..., \n",
       "        [16087, 30236, 19634, 15700, 18616],\n",
       "        [20437, 38438, 20737, 20541, 36252],\n",
       "        [ 1804,  7315, 23662, 21273, 10029]], dtype=int64))"
      ]
     },
     "execution_count": 63,
     "metadata": {},
     "output_type": "execute_result"
    }
   ],
   "source": [
    "#closest = model.kneighbors(data.head(), 5)\n",
    "model.kneighbors()"
   ]
  },
  {
   "cell_type": "code",
   "execution_count": 36,
   "metadata": {},
   "outputs": [
    {
     "ename": "NameError",
     "evalue": "name 'labels' is not defined",
     "traceback": [
      "\u001b[1;31m---------------------------------------------------------------------------\u001b[0m",
      "\u001b[1;31mNameError\u001b[0m                                 Traceback (most recent call last)",
      "\u001b[1;32m<ipython-input-36-d76d4df3a0df>\u001b[0m in \u001b[0;36m<module>\u001b[1;34m()\u001b[0m\n\u001b[0;32m      9\u001b[0m               \u001b[0mloss\u001b[0m\u001b[1;33m=\u001b[0m\u001b[1;34m'categorical_crossentropy'\u001b[0m\u001b[1;33m,\u001b[0m\u001b[1;33m\u001b[0m\u001b[0m\n\u001b[0;32m     10\u001b[0m               metrics=['accuracy'])\n\u001b[1;32m---> 11\u001b[1;33m \u001b[0mmodel\u001b[0m\u001b[1;33m.\u001b[0m\u001b[0mfit\u001b[0m\u001b[1;33m(\u001b[0m\u001b[0mdata\u001b[0m\u001b[1;33m,\u001b[0m \u001b[0mlabels\u001b[0m\u001b[1;33m)\u001b[0m\u001b[1;33m\u001b[0m\u001b[0m\n\u001b[0m",
      "\u001b[1;31mNameError\u001b[0m: name 'labels' is not defined"
     ],
     "output_type": "error"
    }
   ],
   "source": [
    "Input(shape=(10,))\n",
    "\n",
    "x = Dense(64, activation='relu')(inputs)\n",
    "x = Dense(64, activation='relu')(x)\n",
    "predictions = Dense(1, activation='softmax')(x)\n",
    "\n",
    "model = Model(inputs=inputs, outputs=predictions)\n",
    "model.compile(optimizer='rmsprop',\n",
    "              loss='categorical_crossentropy',\n",
    "              metrics=['accuracy'])\n",
    "model.fit(data, labels)"
   ]
  }
 ],
 "metadata": {
  "kernelspec": {
   "display_name": "Python 3",
   "language": "python",
   "name": "python3"
  },
  "language_info": {
   "codemirror_mode": {
    "name": "ipython",
    "version": 3
   },
   "file_extension": ".py",
   "mimetype": "text/x-python",
   "name": "python",
   "nbconvert_exporter": "python",
   "pygments_lexer": "ipython3",
   "version": "3.6.1"
  }
 },
 "nbformat": 4,
 "nbformat_minor": 2
}
