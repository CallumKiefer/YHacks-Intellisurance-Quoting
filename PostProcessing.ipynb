{
 "cells": [
  {
   "cell_type": "code",
   "execution_count": 18,
   "metadata": {},
   "outputs": [],
   "source": [
    "import pandas as pd\n",
    "import matplotlib.pyplot as plt\n",
    "import seaborn as sns\n",
    "import numpy as np\n",
    "%matplotlib inline"
   ]
  },
  {
   "cell_type": "code",
   "execution_count": 19,
   "metadata": {},
   "outputs": [],
   "source": [
    "data = pd.read_csv(\"extendedData.csv\")"
   ]
  },
  {
   "cell_type": "code",
   "execution_count": 20,
   "metadata": {
    "scrolled": false
   },
   "outputs": [
    {
     "data": {
      "text/html": [
       "<div>\n",
       "<style>\n",
       "    .dataframe thead tr:only-child th {\n",
       "        text-align: right;\n",
       "    }\n",
       "\n",
       "    .dataframe thead th {\n",
       "        text-align: left;\n",
       "    }\n",
       "\n",
       "    .dataframe tbody tr th {\n",
       "        vertical-align: top;\n",
       "    }\n",
       "</style>\n",
       "<table border=\"1\" class=\"dataframe\">\n",
       "  <thead>\n",
       "    <tr style=\"text-align: right;\">\n",
       "      <th></th>\n",
       "      <th>Unnamed: 0</th>\n",
       "      <th>id</th>\n",
       "      <th>city</th>\n",
       "      <th>DOB</th>\n",
       "      <th>address</th>\n",
       "      <th>longitude</th>\n",
       "      <th>sex</th>\n",
       "      <th>state</th>\n",
       "      <th>latitude</th>\n",
       "      <th>name</th>\n",
       "      <th>...</th>\n",
       "      <th>R04.2</th>\n",
       "      <th>G47.33</th>\n",
       "      <th>R00.0</th>\n",
       "      <th>R19.7</th>\n",
       "      <th>E11.65</th>\n",
       "      <th>B20.1</th>\n",
       "      <th>M05.10</th>\n",
       "      <th>F14.121</th>\n",
       "      <th>F10.121</th>\n",
       "      <th>N18.9</th>\n",
       "    </tr>\n",
       "  </thead>\n",
       "  <tbody>\n",
       "    <tr>\n",
       "      <th>0</th>\n",
       "      <td>0</td>\n",
       "      <td>1</td>\n",
       "      <td>Sanders</td>\n",
       "      <td>1996-07-08T22:11:38Z</td>\n",
       "      <td>316 CROUCH STREET</td>\n",
       "      <td>-109</td>\n",
       "      <td>F</td>\n",
       "      <td>Arizona</td>\n",
       "      <td>35</td>\n",
       "      <td>MOS,JERN M</td>\n",
       "      <td>...</td>\n",
       "      <td>1.0</td>\n",
       "      <td>1.0</td>\n",
       "      <td>1.0</td>\n",
       "      <td>1.0</td>\n",
       "      <td>0.0</td>\n",
       "      <td>0.0</td>\n",
       "      <td>0.0</td>\n",
       "      <td>0.0</td>\n",
       "      <td>0.0</td>\n",
       "      <td>0.0</td>\n",
       "    </tr>\n",
       "    <tr>\n",
       "      <th>1</th>\n",
       "      <td>1</td>\n",
       "      <td>10</td>\n",
       "      <td>Tsaile</td>\n",
       "      <td>1999-05-08T22:11:38Z</td>\n",
       "      <td>1480 E 23RD</td>\n",
       "      <td>-109</td>\n",
       "      <td>M</td>\n",
       "      <td>Arizona</td>\n",
       "      <td>36</td>\n",
       "      <td>KLUTSCH,NELIDA Z</td>\n",
       "      <td>...</td>\n",
       "      <td>1.0</td>\n",
       "      <td>1.0</td>\n",
       "      <td>1.0</td>\n",
       "      <td>1.0</td>\n",
       "      <td>0.0</td>\n",
       "      <td>0.0</td>\n",
       "      <td>0.0</td>\n",
       "      <td>0.0</td>\n",
       "      <td>0.0</td>\n",
       "      <td>0.0</td>\n",
       "    </tr>\n",
       "    <tr>\n",
       "      <th>2</th>\n",
       "      <td>2</td>\n",
       "      <td>100</td>\n",
       "      <td>Quartzsite</td>\n",
       "      <td>1997-11-08T22:11:38Z</td>\n",
       "      <td>5156 N WEST</td>\n",
       "      <td>-114</td>\n",
       "      <td>M</td>\n",
       "      <td>Arizona</td>\n",
       "      <td>34</td>\n",
       "      <td>POLITOVICH,ACHAEE A</td>\n",
       "      <td>...</td>\n",
       "      <td>1.0</td>\n",
       "      <td>1.0</td>\n",
       "      <td>1.0</td>\n",
       "      <td>1.0</td>\n",
       "      <td>0.0</td>\n",
       "      <td>0.0</td>\n",
       "      <td>0.0</td>\n",
       "      <td>0.0</td>\n",
       "      <td>0.0</td>\n",
       "      <td>0.0</td>\n",
       "    </tr>\n",
       "    <tr>\n",
       "      <th>3</th>\n",
       "      <td>3</td>\n",
       "      <td>1000</td>\n",
       "      <td>Santa Barbara</td>\n",
       "      <td>1998-03-08T22:11:38Z</td>\n",
       "      <td>7020 TRISTAN CIRCLE</td>\n",
       "      <td>-120</td>\n",
       "      <td>M</td>\n",
       "      <td>California</td>\n",
       "      <td>34</td>\n",
       "      <td>FLORES RIVERA,JERUZ D</td>\n",
       "      <td>...</td>\n",
       "      <td>1.0</td>\n",
       "      <td>1.0</td>\n",
       "      <td>1.0</td>\n",
       "      <td>1.0</td>\n",
       "      <td>0.0</td>\n",
       "      <td>0.0</td>\n",
       "      <td>0.0</td>\n",
       "      <td>0.0</td>\n",
       "      <td>0.0</td>\n",
       "      <td>0.0</td>\n",
       "    </tr>\n",
       "    <tr>\n",
       "      <th>4</th>\n",
       "      <td>4</td>\n",
       "      <td>10000</td>\n",
       "      <td>Buffalo</td>\n",
       "      <td>1997-10-08T22:11:38Z</td>\n",
       "      <td>3925 SACRAMENTO ST405</td>\n",
       "      <td>-107</td>\n",
       "      <td>M</td>\n",
       "      <td>Wyoming</td>\n",
       "      <td>44</td>\n",
       "      <td>BUCKNER,SANAE</td>\n",
       "      <td>...</td>\n",
       "      <td>1.0</td>\n",
       "      <td>1.0</td>\n",
       "      <td>1.0</td>\n",
       "      <td>1.0</td>\n",
       "      <td>0.0</td>\n",
       "      <td>0.0</td>\n",
       "      <td>0.0</td>\n",
       "      <td>0.0</td>\n",
       "      <td>0.0</td>\n",
       "      <td>0.0</td>\n",
       "    </tr>\n",
       "  </tbody>\n",
       "</table>\n",
       "<p>5 rows × 39 columns</p>\n",
       "</div>"
      ],
      "text/plain": [
       "   Unnamed: 0     id           city                   DOB  \\\n",
       "0           0      1        Sanders  1996-07-08T22:11:38Z   \n",
       "1           1     10         Tsaile  1999-05-08T22:11:38Z   \n",
       "2           2    100     Quartzsite  1997-11-08T22:11:38Z   \n",
       "3           3   1000  Santa Barbara  1998-03-08T22:11:38Z   \n",
       "4           4  10000        Buffalo  1997-10-08T22:11:38Z   \n",
       "\n",
       "                 address longitude sex       state latitude  \\\n",
       "0      316 CROUCH STREET      -109   F     Arizona       35   \n",
       "1            1480 E 23RD      -109   M     Arizona       36   \n",
       "2            5156 N WEST      -114   M     Arizona       34   \n",
       "3    7020 TRISTAN CIRCLE      -120   M  California       34   \n",
       "4  3925 SACRAMENTO ST405      -107   M     Wyoming       44   \n",
       "\n",
       "                    name  ...    R04.2 G47.33 R00.0 R19.7 E11.65 B20.1 M05.10  \\\n",
       "0             MOS,JERN M  ...      1.0    1.0   1.0   1.0    0.0   0.0    0.0   \n",
       "1       KLUTSCH,NELIDA Z  ...      1.0    1.0   1.0   1.0    0.0   0.0    0.0   \n",
       "2    POLITOVICH,ACHAEE A  ...      1.0    1.0   1.0   1.0    0.0   0.0    0.0   \n",
       "3  FLORES RIVERA,JERUZ D  ...      1.0    1.0   1.0   1.0    0.0   0.0    0.0   \n",
       "4         BUCKNER,SANAE   ...      1.0    1.0   1.0   1.0    0.0   0.0    0.0   \n",
       "\n",
       "  F14.121  F10.121  N18.9  \n",
       "0     0.0      0.0    0.0  \n",
       "1     0.0      0.0    0.0  \n",
       "2     0.0      0.0    0.0  \n",
       "3     0.0      0.0    0.0  \n",
       "4     0.0      0.0    0.0  \n",
       "\n",
       "[5 rows x 39 columns]"
      ]
     },
     "execution_count": 20,
     "metadata": {},
     "output_type": "execute_result"
    }
   ],
   "source": [
    "data.head()"
   ]
  },
  {
   "cell_type": "code",
   "execution_count": 21,
   "metadata": {
    "scrolled": true
   },
   "outputs": [
    {
     "data": {
      "text/plain": [
       "Unnamed: 0                             2\n",
       "id                                   100\n",
       "city                          Quartzsite\n",
       "DOB                 1997-11-08T22:11:38Z\n",
       "address                      5156 N WEST\n",
       "longitude                           -114\n",
       "sex                                    M\n",
       "state                            Arizona\n",
       "latitude                              34\n",
       "name                 POLITOVICH,ACHAEE A\n",
       "PEOPLE_COVERED                         1\n",
       "OPTIONAL_INSURED                  800000\n",
       "ANNUAL_INCOME                     200000\n",
       "MARITAL_STATUS                         S\n",
       "HEIGHT                                76\n",
       "WEIGHT                               158\n",
       "TOBACCO                               No\n",
       "collection_id                   v_quotes\n",
       "GOLD                                  80\n",
       "BRONZE                                30\n",
       "SILVER                                50\n",
       "PLATINUM                             120\n",
       "PURCHASED                         Silver\n",
       "S62.308                                1\n",
       "G80.4                                  2\n",
       "R00.8                                  1\n",
       "T85.622                                1\n",
       "Z91.010                                1\n",
       "T84.011                                1\n",
       "R04.2                                  1\n",
       "G47.33                                 1\n",
       "R00.0                                  1\n",
       "R19.7                                  1\n",
       "E11.65                                 0\n",
       "B20.1                                  0\n",
       "M05.10                                 0\n",
       "F14.121                                0\n",
       "F10.121                                0\n",
       "N18.9                                  0\n",
       "Name: 2, dtype: object"
      ]
     },
     "execution_count": 21,
     "metadata": {},
     "output_type": "execute_result"
    }
   ],
   "source": [
    "data.iloc[2]"
   ]
  },
  {
   "cell_type": "code",
   "execution_count": 22,
   "metadata": {},
   "outputs": [],
   "source": [
    "# Convert SILVER values to ints and drop NA\n",
    "\n",
    "# data[\"SILVER\"] = pd.to_numeric(data[\"SILVER\"], errors=\"coerce\")\n",
    "# for i in range(len(data[\"\"])):\n",
    "#     if np.isnan(data.iloc[i][\"SILVER\"]):\n",
    "#         data.at[i, \"SILVER\"] = (data.iloc[i][\"BRONZE\"] + data.iloc[i][\"GOLD\"]) / 2\n",
    "#         print(data.iloc[i][\"SILVER\"])\n",
    "# data[\"SILVER\"] = data[\"SILVER\"].astype(int)"
   ]
  },
  {
   "cell_type": "code",
   "execution_count": 23,
   "metadata": {},
   "outputs": [],
   "source": [
    "def tobaccoConv(x):\n",
    "    if x.lower() == \"yes\":\n",
    "        return True\n",
    "    if x.lower() == \"no\":\n",
    "        return False\n",
    "    return np.nan\n",
    "\n",
    "data[\"TOBACCO\"] = data[\"TOBACCO\"].apply(lambda row: tobaccoConv (row))"
   ]
  },
  {
   "cell_type": "code",
   "execution_count": 24,
   "metadata": {},
   "outputs": [],
   "source": [
    "# Clean silver data of NAs\n",
    "\n",
    "data[\"SILVER\"] = pd.to_numeric(data[\"SILVER\"], errors=\"coerce\")\n",
    "data[\"PLATINUM\"] = pd.to_numeric(data[\"PLATINUM\"], errors=\"coerce\")\n",
    "data[\"WEIGHT\"] = pd.to_numeric(data[\"WEIGHT\"], errors=\"coerce\")"
   ]
  },
  {
   "cell_type": "code",
   "execution_count": 25,
   "metadata": {
    "scrolled": false
   },
   "outputs": [],
   "source": [
    "data = data.dropna()"
   ]
  },
  {
   "cell_type": "code",
   "execution_count": 26,
   "metadata": {},
   "outputs": [],
   "source": [
    "def avgCost(x):\n",
    "    return int((x[\"BRONZE\"] + x[\"SILVER\"] + x[\"GOLD\"] + x[\"PLATINUM\"]) / 4)\n",
    "\n",
    "data[\"AVGCOST\"] = data.apply(lambda row: avgCost(row), axis=1)"
   ]
  },
  {
   "cell_type": "code",
   "execution_count": 27,
   "metadata": {},
   "outputs": [],
   "source": [
    "def riskCounter(x):\n",
    "    return int(x[\"B20.1\"] + x[\"E11.65\"] + x[\"F10.121\"] + x[\"F14.121\"] + \\\n",
    "        x[\"G47.33\"] + x[\"G80.4\"] + x[\"M05.10\"] + x[\"N18.9\"] + \\\n",
    "        x[\"R00.0\"] + x[\"R00.8\"] + x[\"R04.2\"] + x[\"R19.7\"] + \\\n",
    "        x[\"S62.308\"] + x[\"T84.011\"] + x[\"T85.622\"] + x[\"Z91.010\"])\n",
    "\n",
    "data[\"RISK_FACTOR\"] = data.apply(lambda row: riskCounter(row), axis=1)"
   ]
  },
  {
   "cell_type": "code",
   "execution_count": 41,
   "metadata": {},
   "outputs": [
    {
     "data": {
      "text/plain": [
       "<matplotlib.axes._subplots.AxesSubplot at 0x1137c9320>"
      ]
     },
     "execution_count": 41,
     "metadata": {},
     "output_type": "execute_result"
    },
    {
     "data": {
      "image/png": "[encoded data removed]",
      "text/plain": [
       "<matplotlib.figure.Figure at 0x1137a04a8>"
      ]
     },
     "metadata": {},
     "output_type": "display_data"
    }
   ],
   "source": [
    "sns.set()\n",
    "sns.distplot(data[\"RISK_FACTOR\"], kde=False)"
   ]
  },
  {
   "cell_type": "markdown",
   "metadata": {},
   "source": [
    "# Bronze"
   ]
  },
  {
   "cell_type": "code",
   "execution_count": 42,
   "metadata": {
    "scrolled": false
   },
   "outputs": [
    {
     "data": {
      "text/plain": [
       "(0, 150)"
      ]
     },
     "execution_count": 42,
     "metadata": {},
     "output_type": "execute_result"
    },
    {
     "data": {
      "image/png": "[encoded data removed]",
      "text/plain": [
       "<matplotlib.figure.Figure at 0x111f34048>"
      ]
     },
     "metadata": {},
     "output_type": "display_data"
    }
   ],
   "source": [
    "sns.distplot(data[\"BRONZE\"], kde=False)\n",
    "plt.xlim(0, 150)"
   ]
  },
  {
   "cell_type": "code",
   "execution_count": 43,
   "metadata": {},
   "outputs": [
    {
     "data": {
      "text/plain": [
       "(0, 200)"
      ]
     },
     "execution_count": 43,
     "metadata": {},
     "output_type": "execute_result"
    },
    {
     "data": {
      "image/png": "[encoded data removed]",
      "text/plain": [
       "<matplotlib.figure.Figure at 0x1136859e8>"
      ]
     },
     "metadata": {},
     "output_type": "display_data"
    }
   ],
   "source": [
    "sns.distplot(data[\"SILVER\"], kde=False)\n",
    "plt.xlim(0, 200)"
   ]
  },
  {
   "cell_type": "code",
   "execution_count": 44,
   "metadata": {
    "scrolled": true
   },
   "outputs": [
    {
     "data": {
      "text/plain": [
       "(0, 300)"
      ]
     },
     "execution_count": 44,
     "metadata": {},
     "output_type": "execute_result"
    },
    {
     "data": {
      "image/png": "[encoded data removed]",
      "text/plain": [
       "<matplotlib.figure.Figure at 0x11369e780>"
      ]
     },
     "metadata": {},
     "output_type": "display_data"
    }
   ],
   "source": [
    "sns.distplot(data[\"GOLD\"], kde=False)\n",
    "plt.xlim(0, 300)"
   ]
  },
  {
   "cell_type": "code",
   "execution_count": 45,
   "metadata": {},
   "outputs": [
    {
     "data": {
      "text/plain": [
       "(0, 450)"
      ]
     },
     "execution_count": 45,
     "metadata": {},
     "output_type": "execute_result"
    },
    {
     "data": {
      "image/png": "[encoded data removed]",
      "text/plain": [
       "<matplotlib.figure.Figure at 0x111d87cf8>"
      ]
     },
     "metadata": {},
     "output_type": "display_data"
    }
   ],
   "source": [
    "sns.distplot(data[\"PLATINUM\"], kde=False)\n",
    "plt.xlim(0, 450)"
   ]
  },
  {
   "cell_type": "code",
   "execution_count": 46,
   "metadata": {},
   "outputs": [
    {
     "data": {
      "text/plain": [
       "(0, 250)"
      ]
     },
     "execution_count": 46,
     "metadata": {},
     "output_type": "execute_result"
    },
    {
     "data": {
      "image/png": "[encoded data removed]",
      "text/plain": [
       "<matplotlib.figure.Figure at 0x10c37f748>"
      ]
     },
     "metadata": {},
     "output_type": "display_data"
    }
   ],
   "source": [
    "sns.distplot(data[\"AVGCOST\"], kde=False)\n",
    "plt.xlim(0, 250)"
   ]
  },
  {
   "cell_type": "code",
   "execution_count": 47,
   "metadata": {
    "scrolled": false
   },
   "outputs": [
    {
     "data": {
      "text/plain": [
       "(0, 420)"
      ]
     },
     "execution_count": 47,
     "metadata": {},
     "output_type": "execute_result"
    },
    {
     "data": {
      "image/png": "[encoded data removed]",
      "text/plain": [
       "<matplotlib.figure.Figure at 0x1136605c0>"
      ]
     },
     "metadata": {},
     "output_type": "display_data"
    }
   ],
   "source": [
    "sns.violinplot(data=[data[\"BRONZE\"], data[\"SILVER\"], data[\"GOLD\"], data[\"PLATINUM\"]])\n",
    "plt.ylim(0, 420)"
   ]
  },
  {
   "cell_type": "code",
   "execution_count": 48,
   "metadata": {
    "scrolled": true
   },
   "outputs": [
    {
     "data": {
      "text/plain": [
       "44384"
      ]
     },
     "execution_count": 48,
     "metadata": {},
     "output_type": "execute_result"
    }
   ],
   "source": [
    "data[\"BRONZE\"].count()"
   ]
  },
  {
   "cell_type": "code",
   "execution_count": null,
   "metadata": {},
   "outputs": [],
   "source": []
  },
  {
   "cell_type": "code",
   "execution_count": 49,
   "metadata": {},
   "outputs": [],
   "source": [
    "sample = data.sample(n=1000)"
   ]
  },
  {
   "cell_type": "code",
   "execution_count": 50,
   "metadata": {},
   "outputs": [
    {
     "ename": "NameError",
     "evalue": "name 'pairplot' is not defined",
     "output_type": "error",
     "traceback": [
      "\u001b[0;31m---------------------------------------------------------------------------\u001b[0m",
      "\u001b[0;31mNameError\u001b[0m                                 Traceback (most recent call last)",
      "\u001b[0;32m<ipython-input-50-f2e9dd6f92e9>\u001b[0m in \u001b[0;36m<module>\u001b[0;34m()\u001b[0m\n\u001b[0;32m----> 1\u001b[0;31m \u001b[0mpairplot\u001b[0m\u001b[0;34m(\u001b[0m\u001b[0msample\u001b[0m\u001b[0;34m[\u001b[0m\u001b[0;34m[\u001b[0m\u001b[0;34m\"TOBACCO\"\u001b[0m\u001b[0;34m,\u001b[0m \u001b[0;34m\"WEIGHT\"\u001b[0m\u001b[0;34m,\u001b[0m \u001b[0;34m\"BRONZE\"\u001b[0m\u001b[0;34m,\u001b[0m \u001b[0;34m\"AVGCOST\"\u001b[0m\u001b[0;34m]\u001b[0m\u001b[0;34m]\u001b[0m\u001b[0;34m,\u001b[0m \u001b[0mhue\u001b[0m\u001b[0;34m=\u001b[0m\u001b[0;34m\"TOBACCO\"\u001b[0m\u001b[0;34m)\u001b[0m\u001b[0;34m\u001b[0m\u001b[0m\n\u001b[0m",
      "\u001b[0;31mNameError\u001b[0m: name 'pairplot' is not defined"
     ]
    }
   ],
   "source": [
    "pairplot(sample[[\"TOBACCO\", \"WEIGHT\", \"BRONZE\", \"AVGCOST\"]], hue=\"TOBACCO\")"
   ]
  },
  {
   "cell_type": "code",
   "execution_count": null,
   "metadata": {},
   "outputs": [],
   "source": []
  },
  {
   "cell_type": "code",
   "execution_count": null,
   "metadata": {},
   "outputs": [],
   "source": []
  },
  {
   "cell_type": "code",
   "execution_count": null,
   "metadata": {},
   "outputs": [],
   "source": []
  }
 ],
 "metadata": {
  "kernelspec": {
   "display_name": "Python 3",
   "language": "python",
   "name": "python3"
  },
  "language_info": {
   "codemirror_mode": {
    "name": "ipython",
    "version": 3
   },
   "file_extension": ".py",
   "mimetype": "text/x-python",
   "name": "python",
   "nbconvert_exporter": "python",
   "pygments_lexer": "ipython3",
   "version": "3.6.3"
  }
 },
 "nbformat": 4,
 "nbformat_minor": 2
}
