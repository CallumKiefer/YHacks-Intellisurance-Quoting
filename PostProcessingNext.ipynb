{
 "cells": [
  {
   "cell_type": "code",
   "execution_count": 1,
   "metadata": {
    "collapsed": true
   },
   "outputs": [],
   "source": [
    "import pandas as pd\n",
    "import matplotlib.pyplot as plt\n",
    "import seaborn as sns\n",
    "import numpy as np\n",
    "%matplotlib inline"
   ]
  },
  {
   "cell_type": "code",
   "execution_count": 2,
   "metadata": {
    "collapsed": true
   },
   "outputs": [],
   "source": [
    "data = pd.read_csv(\"extendedData.csv\").dropna()"
   ]
  },
  {
   "cell_type": "code",
   "execution_count": 3,
   "metadata": {
    "scrolled": true
   },
   "outputs": [
    {
     "data": {
      "text/html": [
       "<div>\n",
       "<style>\n",
       "    .dataframe thead tr:only-child th {\n",
       "        text-align: right;\n",
       "    }\n",
       "\n",
       "    .dataframe thead th {\n",
       "        text-align: left;\n",
       "    }\n",
       "\n",
       "    .dataframe tbody tr th {\n",
       "        vertical-align: top;\n",
       "    }\n",
       "</style>\n",
       "<table border=\"1\" class=\"dataframe\">\n",
       "  <thead>\n",
       "    <tr style=\"text-align: right;\">\n",
       "      <th></th>\n",
       "      <th>Unnamed: 0</th>\n",
       "      <th>id</th>\n",
       "      <th>city</th>\n",
       "      <th>DOB</th>\n",
       "      <th>address</th>\n",
       "      <th>longitude</th>\n",
       "      <th>sex</th>\n",
       "      <th>state</th>\n",
       "      <th>latitude</th>\n",
       "      <th>name</th>\n",
       "      <th>...</th>\n",
       "      <th>R04.2</th>\n",
       "      <th>G47.33</th>\n",
       "      <th>R00.0</th>\n",
       "      <th>R19.7</th>\n",
       "      <th>E11.65</th>\n",
       "      <th>B20.1</th>\n",
       "      <th>M05.10</th>\n",
       "      <th>F14.121</th>\n",
       "      <th>F10.121</th>\n",
       "      <th>N18.9</th>\n",
       "    </tr>\n",
       "  </thead>\n",
       "  <tbody>\n",
       "    <tr>\n",
       "      <th>0</th>\n",
       "      <td>0</td>\n",
       "      <td>1</td>\n",
       "      <td>Sanders</td>\n",
       "      <td>1996-07-08T22:11:38Z</td>\n",
       "      <td>316 CROUCH STREET</td>\n",
       "      <td>-109</td>\n",
       "      <td>F</td>\n",
       "      <td>Arizona</td>\n",
       "      <td>35</td>\n",
       "      <td>MOS,JERN M</td>\n",
       "      <td>...</td>\n",
       "      <td>1.0</td>\n",
       "      <td>1.0</td>\n",
       "      <td>1.0</td>\n",
       "      <td>1.0</td>\n",
       "      <td>0.0</td>\n",
       "      <td>0.0</td>\n",
       "      <td>0.0</td>\n",
       "      <td>0.0</td>\n",
       "      <td>0.0</td>\n",
       "      <td>0.0</td>\n",
       "    </tr>\n",
       "    <tr>\n",
       "      <th>1</th>\n",
       "      <td>1</td>\n",
       "      <td>10</td>\n",
       "      <td>Tsaile</td>\n",
       "      <td>1999-05-08T22:11:38Z</td>\n",
       "      <td>1480 E 23RD</td>\n",
       "      <td>-109</td>\n",
       "      <td>M</td>\n",
       "      <td>Arizona</td>\n",
       "      <td>36</td>\n",
       "      <td>KLUTSCH,NELIDA Z</td>\n",
       "      <td>...</td>\n",
       "      <td>1.0</td>\n",
       "      <td>1.0</td>\n",
       "      <td>1.0</td>\n",
       "      <td>1.0</td>\n",
       "      <td>0.0</td>\n",
       "      <td>0.0</td>\n",
       "      <td>0.0</td>\n",
       "      <td>0.0</td>\n",
       "      <td>0.0</td>\n",
       "      <td>0.0</td>\n",
       "    </tr>\n",
       "    <tr>\n",
       "      <th>2</th>\n",
       "      <td>2</td>\n",
       "      <td>100</td>\n",
       "      <td>Quartzsite</td>\n",
       "      <td>1997-11-08T22:11:38Z</td>\n",
       "      <td>5156 N WEST</td>\n",
       "      <td>-114</td>\n",
       "      <td>M</td>\n",
       "      <td>Arizona</td>\n",
       "      <td>34</td>\n",
       "      <td>POLITOVICH,ACHAEE A</td>\n",
       "      <td>...</td>\n",
       "      <td>1.0</td>\n",
       "      <td>1.0</td>\n",
       "      <td>1.0</td>\n",
       "      <td>1.0</td>\n",
       "      <td>0.0</td>\n",
       "      <td>0.0</td>\n",
       "      <td>0.0</td>\n",
       "      <td>0.0</td>\n",
       "      <td>0.0</td>\n",
       "      <td>0.0</td>\n",
       "    </tr>\n",
       "    <tr>\n",
       "      <th>3</th>\n",
       "      <td>3</td>\n",
       "      <td>1000</td>\n",
       "      <td>Santa Barbara</td>\n",
       "      <td>1998-03-08T22:11:38Z</td>\n",
       "      <td>7020 TRISTAN CIRCLE</td>\n",
       "      <td>-120</td>\n",
       "      <td>M</td>\n",
       "      <td>California</td>\n",
       "      <td>34</td>\n",
       "      <td>FLORES RIVERA,JERUZ D</td>\n",
       "      <td>...</td>\n",
       "      <td>1.0</td>\n",
       "      <td>1.0</td>\n",
       "      <td>1.0</td>\n",
       "      <td>1.0</td>\n",
       "      <td>0.0</td>\n",
       "      <td>0.0</td>\n",
       "      <td>0.0</td>\n",
       "      <td>0.0</td>\n",
       "      <td>0.0</td>\n",
       "      <td>0.0</td>\n",
       "    </tr>\n",
       "    <tr>\n",
       "      <th>4</th>\n",
       "      <td>4</td>\n",
       "      <td>10000</td>\n",
       "      <td>Buffalo</td>\n",
       "      <td>1997-10-08T22:11:38Z</td>\n",
       "      <td>3925 SACRAMENTO ST405</td>\n",
       "      <td>-107</td>\n",
       "      <td>M</td>\n",
       "      <td>Wyoming</td>\n",
       "      <td>44</td>\n",
       "      <td>BUCKNER,SANAE</td>\n",
       "      <td>...</td>\n",
       "      <td>1.0</td>\n",
       "      <td>1.0</td>\n",
       "      <td>1.0</td>\n",
       "      <td>1.0</td>\n",
       "      <td>0.0</td>\n",
       "      <td>0.0</td>\n",
       "      <td>0.0</td>\n",
       "      <td>0.0</td>\n",
       "      <td>0.0</td>\n",
       "      <td>0.0</td>\n",
       "    </tr>\n",
       "  </tbody>\n",
       "</table>\n",
       "<p>5 rows × 39 columns</p>\n",
       "</div>"
      ],
      "text/plain": [
       "   Unnamed: 0     id           city                   DOB  \\\n",
       "0           0      1        Sanders  1996-07-08T22:11:38Z   \n",
       "1           1     10         Tsaile  1999-05-08T22:11:38Z   \n",
       "2           2    100     Quartzsite  1997-11-08T22:11:38Z   \n",
       "3           3   1000  Santa Barbara  1998-03-08T22:11:38Z   \n",
       "4           4  10000        Buffalo  1997-10-08T22:11:38Z   \n",
       "\n",
       "                 address longitude sex       state latitude  \\\n",
       "0      316 CROUCH STREET      -109   F     Arizona       35   \n",
       "1            1480 E 23RD      -109   M     Arizona       36   \n",
       "2            5156 N WEST      -114   M     Arizona       34   \n",
       "3    7020 TRISTAN CIRCLE      -120   M  California       34   \n",
       "4  3925 SACRAMENTO ST405      -107   M     Wyoming       44   \n",
       "\n",
       "                    name  ...    R04.2 G47.33 R00.0 R19.7 E11.65 B20.1 M05.10  \\\n",
       "0             MOS,JERN M  ...      1.0    1.0   1.0   1.0    0.0   0.0    0.0   \n",
       "1       KLUTSCH,NELIDA Z  ...      1.0    1.0   1.0   1.0    0.0   0.0    0.0   \n",
       "2    POLITOVICH,ACHAEE A  ...      1.0    1.0   1.0   1.0    0.0   0.0    0.0   \n",
       "3  FLORES RIVERA,JERUZ D  ...      1.0    1.0   1.0   1.0    0.0   0.0    0.0   \n",
       "4         BUCKNER,SANAE   ...      1.0    1.0   1.0   1.0    0.0   0.0    0.0   \n",
       "\n",
       "  F14.121  F10.121  N18.9  \n",
       "0     0.0      0.0    0.0  \n",
       "1     0.0      0.0    0.0  \n",
       "2     0.0      0.0    0.0  \n",
       "3     0.0      0.0    0.0  \n",
       "4     0.0      0.0    0.0  \n",
       "\n",
       "[5 rows x 39 columns]"
      ]
     },
     "execution_count": 3,
     "metadata": {},
     "output_type": "execute_result"
    }
   ],
   "source": [
    "data.head()"
   ]
  },
  {
   "cell_type": "code",
   "execution_count": 4,
   "metadata": {
    "collapsed": true
   },
   "outputs": [],
   "source": [
    "# Convert SILVER values to ints and drop NA\n",
    "\n",
    "# data[\"SILVER\"] = pd.to_numeric(data[\"SILVER\"], errors=\"coerce\")\n",
    "# for i in range(len(data[\"\"])):\n",
    "#     if np.isnan(data.iloc[i][\"SILVER\"]):\n",
    "#         data.at[i, \"SILVER\"] = (data.iloc[i][\"BRONZE\"] + data.iloc[i][\"GOLD\"]) / 2\n",
    "#         print(data.iloc[i][\"SILVER\"])\n",
    "# data[\"SILVER\"] = data[\"SILVER\"].astype(int)"
   ]
  },
  {
   "cell_type": "code",
   "execution_count": 5,
   "metadata": {
    "collapsed": true
   },
   "outputs": [],
   "source": [
    "def tobaccoConv(x):\n",
    "    if x.lower() == \"yes\":\n",
    "        return True\n",
    "    if x.lower() == \"no\":\n",
    "        return False\n",
    "    return np.nan\n",
    "\n",
    "data[\"TOBACCO\"] = data[\"TOBACCO\"].apply(lambda row: tobaccoConv (row))"
   ]
  },
  {
   "cell_type": "code",
   "execution_count": 6,
   "metadata": {
    "collapsed": true
   },
   "outputs": [],
   "source": [
    "# Clean silver data of NAs\n",
    "\n",
    "data[\"SILVER\"] = pd.to_numeric(data[\"SILVER\"], errors=\"coerce\")\n",
    "data[\"PLATINUM\"] = pd.to_numeric(data[\"PLATINUM\"], errors=\"coerce\")\n",
    "data[\"WEIGHT\"] = pd.to_numeric(data[\"WEIGHT\"], errors=\"coerce\")\n",
    "data[\"HEIGHT\"] = pd.to_numeric(data[\"HEIGHT\"], errors=\"coerce\")"
   ]
  },
  {
   "cell_type": "code",
   "execution_count": 7,
   "metadata": {
    "collapsed": true,
    "scrolled": false
   },
   "outputs": [],
   "source": [
    "data = data.dropna()"
   ]
  },
  {
   "cell_type": "code",
   "execution_count": 8,
   "metadata": {
    "collapsed": true
   },
   "outputs": [],
   "source": [
    "def avgCost(x):\n",
    "    return int((x[\"BRONZE\"] + x[\"SILVER\"] + x[\"GOLD\"] + x[\"PLATINUM\"]) / 4)\n",
    "\n",
    "data[\"AVGCOST\"] = data.apply(lambda row: avgCost(row), axis=1)"
   ]
  },
  {
   "cell_type": "code",
   "execution_count": 9,
   "metadata": {
    "collapsed": true
   },
   "outputs": [],
   "source": [
    "def riskCounter(x):\n",
    "    return int(x[\"B20.1\"] + x[\"E11.65\"] + x[\"F10.121\"] + x[\"F14.121\"] + \\\n",
    "        x[\"G47.33\"] + x[\"G80.4\"] + x[\"M05.10\"] + x[\"N18.9\"] + \\\n",
    "        x[\"R00.0\"] + x[\"R00.8\"] + x[\"R04.2\"] + x[\"R19.7\"] + \\\n",
    "        x[\"S62.308\"] + x[\"T84.011\"] + x[\"T85.622\"] + x[\"Z91.010\"])\n",
    "\n",
    "data[\"RISK_FACTOR\"] = data.apply(lambda row: riskCounter(row), axis=1)"
   ]
  },
  {
   "cell_type": "code",
   "execution_count": 10,
   "metadata": {},
   "outputs": [
    {
     "data": {
      "text/plain": [
       "<matplotlib.axes._subplots.AxesSubplot at 0x7f65d7012470>"
      ]
     },
     "execution_count": 10,
     "metadata": {},
     "output_type": "execute_result"
    },
    {
     "data": {
      "image/png": "[encoded data removed]",
      "text/plain": [
       "<matplotlib.figure.Figure at 0x7f65d726bc50>"
      ]
     },
     "metadata": {},
     "output_type": "display_data"
    }
   ],
   "source": [
    "sns.distplot(data[\"RISK_FACTOR\"], kde=False)"
   ]
  },
  {
   "cell_type": "markdown",
   "metadata": {},
   "source": [
    "# Bronze"
   ]
  },
  {
   "cell_type": "code",
   "execution_count": 11,
   "metadata": {
    "scrolled": false
   },
   "outputs": [
    {
     "data": {
      "text/plain": [
       "(0, 150)"
      ]
     },
     "execution_count": 11,
     "metadata": {},
     "output_type": "execute_result"
    },
    {
     "data": {
      "image/png": "[encoded data removed]",
      "text/plain": [
       "<matplotlib.figure.Figure at 0x7f65d7268ef0>"
      ]
     },
     "metadata": {},
     "output_type": "display_data"
    }
   ],
   "source": [
    "sns.distplot(data[\"BRONZE\"], kde=False)\n",
    "sns.plt.xlim(0, 150)"
   ]
  },
  {
   "cell_type": "code",
   "execution_count": 12,
   "metadata": {},
   "outputs": [
    {
     "data": {
      "text/plain": [
       "(0, 200)"
      ]
     },
     "execution_count": 12,
     "metadata": {},
     "output_type": "execute_result"
    },
    {
     "data": {
      "image/png": "[encoded data removed]",
      "text/plain": [
       "<matplotlib.figure.Figure at 0x7f65d5a9fc18>"
      ]
     },
     "metadata": {},
     "output_type": "display_data"
    }
   ],
   "source": [
    "sns.distplot(data[\"SILVER\"], kde=False)\n",
    "sns.plt.xlim(0, 200)"
   ]
  },
  {
   "cell_type": "code",
   "execution_count": 13,
   "metadata": {
    "scrolled": true
   },
   "outputs": [
    {
     "data": {
      "text/plain": [
       "(0, 300)"
      ]
     },
     "execution_count": 13,
     "metadata": {},
     "output_type": "execute_result"
    },
    {
     "data": {
      "image/png": "[encoded data removed]",
      "text/plain": [
       "<matplotlib.figure.Figure at 0x7f65d88f0b70>"
      ]
     },
     "metadata": {},
     "output_type": "display_data"
    }
   ],
   "source": [
    "sns.distplot(data[\"GOLD\"], kde=False)\n",
    "sns.plt.xlim(0, 300)"
   ]
  },
  {
   "cell_type": "code",
   "execution_count": 14,
   "metadata": {},
   "outputs": [
    {
     "data": {
      "text/plain": [
       "(0, 450)"
      ]
     },
     "execution_count": 14,
     "metadata": {},
     "output_type": "execute_result"
    },
    {
     "data": {
      "image/png": "[encoded data removed]",
      "text/plain": [
       "<matplotlib.figure.Figure at 0x7f65d79e7c88>"
      ]
     },
     "metadata": {},
     "output_type": "display_data"
    }
   ],
   "source": [
    "sns.distplot(data[\"PLATINUM\"], kde=False)\n",
    "sns.plt.xlim(0, 450)"
   ]
  },
  {
   "cell_type": "code",
   "execution_count": 15,
   "metadata": {},
   "outputs": [
    {
     "data": {
      "text/plain": [
       "(0, 250)"
      ]
     },
     "execution_count": 15,
     "metadata": {},
     "output_type": "execute_result"
    },
    {
     "data": {
      "image/png": "[encoded data removed]",
      "text/plain": [
       "<matplotlib.figure.Figure at 0x7f65d894be80>"
      ]
     },
     "metadata": {},
     "output_type": "display_data"
    }
   ],
   "source": [
    "sns.distplot(data[\"AVGCOST\"], kde=False)\n",
    "sns.plt.xlim(0, 250)"
   ]
  },
  {
   "cell_type": "code",
   "execution_count": 16,
   "metadata": {
    "scrolled": false
   },
   "outputs": [
    {
     "data": {
      "text/plain": [
       "(0, 420)"
      ]
     },
     "execution_count": 16,
     "metadata": {},
     "output_type": "execute_result"
    },
    {
     "data": {
      "image/png": "[encoded data removed]",
      "text/plain": [
       "<matplotlib.figure.Figure at 0x7f65d8dfe2e8>"
      ]
     },
     "metadata": {},
     "output_type": "display_data"
    }
   ],
   "source": [
    "sns.violinplot(data=[data[\"BRONZE\"], data[\"SILVER\"], data[\"GOLD\"], data[\"PLATINUM\"]])\n",
    "sns.plt.ylim(0, 420)"
   ]
  },
  {
   "cell_type": "code",
   "execution_count": 44,
   "metadata": {
    "scrolled": true
   },
   "outputs": [],
   "source": [
    "low_gold = data.loc[data[\"GOLD\"] < 175]\n",
    "high_gold = data.loc[data[\"GOLD\"] >= 175]"
   ]
  },
  {
   "cell_type": "code",
   "execution_count": 51,
   "metadata": {
    "scrolled": true
   },
   "outputs": [
    {
     "data": {
      "text/plain": [
       "(1000000, 1050000)"
      ]
     },
     "execution_count": 51,
     "metadata": {},
     "output_type": "execute_result"
    },
    {
     "data": {
      "image/png": "[encoded data removed]",
      "text/plain": [
       "<matplotlib.figure.Figure at 0x7f65546d4208>"
      ]
     },
     "metadata": {},
     "output_type": "display_data"
    }
   ],
   "source": [
    "sns.distplot(low_gold[\"id\"])\n",
    "sns.plt.xlim(1000000, 1050000)"
   ]
  },
  {
   "cell_type": "code",
   "execution_count": 52,
   "metadata": {},
   "outputs": [
    {
     "data": {
      "text/plain": [
       "(1000000, 1050000)"
      ]
     },
     "execution_count": 52,
     "metadata": {},
     "output_type": "execute_result"
    },
    {
     "data": {
      "image/png": "[encoded data removed]",
      "text/plain": [
       "<matplotlib.figure.Figure at 0x7f65442fe400>"
      ]
     },
     "metadata": {},
     "output_type": "display_data"
    }
   ],
   "source": [
    "sns.distplot(high_gold[\"id\"])\n",
    "sns.plt.xlim(1000000, 1050000)"
   ]
  },
  {
   "cell_type": "code",
   "execution_count": 18,
   "metadata": {
    "collapsed": true
   },
   "outputs": [],
   "source": [
    "sample = data.sample(n=1000)"
   ]
  },
  {
   "cell_type": "code",
   "execution_count": 19,
   "metadata": {
    "scrolled": false
   },
   "outputs": [
    {
     "data": {
      "text/plain": [
       "<seaborn.axisgrid.PairGrid at 0x7f65d6fc3e10>"
      ]
     },
     "execution_count": 19,
     "metadata": {},
     "output_type": "execute_result"
    },
    {
     "data": {
      "image/png": "[encoded data removed]",
      "text/plain": [
       "<matplotlib.figure.Figure at 0x7f65d8962f28>"
      ]
     },
     "metadata": {},
     "output_type": "display_data"
    }
   ],
   "source": [
    "sns.pairplot(sample[[\"TOBACCO\", \"WEIGHT\", \"AVGCOST\"]], hue=\"TOBACCO\")"
   ]
  },
  {
   "cell_type": "code",
   "execution_count": null,
   "metadata": {
    "collapsed": true
   },
   "outputs": [],
   "source": []
  },
  {
   "cell_type": "code",
   "execution_count": null,
   "metadata": {
    "collapsed": true
   },
   "outputs": [],
   "source": []
  },
  {
   "cell_type": "code",
   "execution_count": 60,
   "metadata": {},
   "outputs": [],
   "source": [
    "from matplotlib.colors import ListedColormap\n",
    "from sklearn.model_selection import train_test_split\n",
    "from sklearn.preprocessing import StandardScaler, LabelEncoder\n",
    "from sklearn.neural_network import MLPClassifier\n",
    "from sklearn.neighbors import KNeighborsClassifier\n",
    "from sklearn.svm import SVC\n",
    "from sklearn.gaussian_process import GaussianProcessClassifier\n",
    "from sklearn.gaussian_process.kernels import RBF\n",
    "from sklearn.tree import DecisionTreeClassifier\n",
    "from sklearn.ensemble import RandomForestClassifier, AdaBoostClassifier\n",
    "from sklearn.naive_bayes import GaussianNB\n",
    "from sklearn.discriminant_analysis import QuadraticDiscriminantAnalysis\n",
    "from xgboost import XGBClassifier"
   ]
  },
  {
   "cell_type": "code",
   "execution_count": 61,
   "metadata": {
    "collapsed": true
   },
   "outputs": [],
   "source": [
    "names = [\"XGBoost\", \n",
    "    \"Nearest Neighbors\", \"Linear SVM\", \"RBF SVM\",\n",
    "         \"Decision Tree\", \"Random Forest\", \"Neural Net\", \"AdaBoost\",\n",
    "         \"Naive Bayes\", \"QDA\"]"
   ]
  },
  {
   "cell_type": "code",
   "execution_count": 62,
   "metadata": {},
   "outputs": [],
   "source": [
    "classifiers = [\n",
    "    XGBClassifier(),\n",
    "    KNeighborsClassifier(3),\n",
    "    SVC(kernel=\"linear\", C=0.025),\n",
    "    SVC(gamma=2, C=1),\n",
    "    DecisionTreeClassifier(max_depth=5),\n",
    "    RandomForestClassifier(max_depth=5, n_estimators=10, max_features=1),\n",
    "    MLPClassifier(alpha=1),\n",
    "    AdaBoostClassifier(),\n",
    "    GaussianNB(),\n",
    "    QuadraticDiscriminantAnalysis()]"
   ]
  },
  {
   "cell_type": "code",
   "execution_count": 63,
   "metadata": {
    "collapsed": true
   },
   "outputs": [],
   "source": [
    "purDict = {\"Bronze\": 0}"
   ]
  },
  {
   "cell_type": "code",
   "execution_count": 64,
   "metadata": {
    "collapsed": true
   },
   "outputs": [],
   "source": [
    "classSamples = data.sample(n=5000)"
   ]
  },
  {
   "cell_type": "code",
   "execution_count": 65,
   "metadata": {},
   "outputs": [],
   "source": [
    "import warnings\n",
    "warnings.filterwarnings('ignore')\n",
    "X = classSamples[[\"HEIGHT\", \"WEIGHT\", \"TOBACCO\", \"BRONZE\", \"SILVER\", \"GOLD\", \"PLATINUM\"]]\n",
    "y = classSamples[\"PURCHASED\"]\n",
    "\n",
    "le = LabelEncoder()\n",
    "# for column in X:\n",
    "#     X[column] = le.fit_transform(X[column])\n",
    "#     X[column] = StandardScaler().fit_transform(X[column])\n",
    "X[\"TOBACCO\"] = le.fit_transform(X[\"TOBACCO\"])\n",
    "#X[:100]\n",
    "\n",
    "# for i, val in enumerate(y):\n",
    "#     if y[i] == \"Bronze\":"
   ]
  },
  {
   "cell_type": "code",
   "execution_count": 66,
   "metadata": {
    "collapsed": true
   },
   "outputs": [],
   "source": [
    "X_train, X_test, y_train, y_test = train_test_split(\n",
    "        X, y, test_size=0.2, random_state=42)"
   ]
  },
  {
   "cell_type": "code",
   "execution_count": 67,
   "metadata": {},
   "outputs": [
    {
     "name": "stdout",
     "output_type": "stream",
     "text": [
      "XGBoost: 0.4\n",
      "Nearest Neighbors: 0.294\n",
      "Linear SVM: 0.401\n",
      "RBF SVM: 0.403\n",
      "Decision Tree: 0.4\n",
      "Random Forest: 0.406\n",
      "Neural Net: 0.318\n",
      "AdaBoost: 0.395\n",
      "Naive Bayes: 0.334\n",
      "QDA: 0.312\n"
     ]
    }
   ],
   "source": [
    "for name, clf in zip(names, classifiers):\n",
    "    clf.fit(X_train, y_train)\n",
    "    score = clf.score(X_test, y_test)\n",
    "    print(\"{}: {}\".format(name, score))"
   ]
  },
  {
   "cell_type": "code",
   "execution_count": 68,
   "metadata": {
    "collapsed": true
   },
   "outputs": [],
   "source": [
    "from sklearn import linear_model"
   ]
  },
  {
   "cell_type": "code",
   "execution_count": 29,
   "metadata": {},
   "outputs": [],
   "source": [
    "import warnings\n",
    "warnings.filterwarnings('ignore')\n",
    "X_reg = classSamples[[\"HEIGHT\", \"WEIGHT\", \"TOBACCO\"]]\n",
    "y_reg = classSamples[\"AVGCOST\"]\n",
    "\n",
    "X_reg[\"TOBACCO\"] = le.fit_transform(X_reg[\"TOBACCO\"])"
   ]
  },
  {
   "cell_type": "code",
   "execution_count": 30,
   "metadata": {},
   "outputs": [],
   "source": [
    "X_train_reg, X_test_reg, y_train_reg, y_test_reg = train_test_split(\n",
    "        X_reg, y_reg, test_size=0.2, random_state=42)"
   ]
  },
  {
   "cell_type": "code",
   "execution_count": 31,
   "metadata": {},
   "outputs": [
    {
     "data": {
      "text/plain": [
       "LinearRegression(copy_X=True, fit_intercept=True, n_jobs=1, normalize=False)"
      ]
     },
     "execution_count": 31,
     "metadata": {},
     "output_type": "execute_result"
    }
   ],
   "source": [
    "reg = linear_model.LinearRegression()\n",
    "reg.fit(X_train_reg, y_train_reg)"
   ]
  },
  {
   "cell_type": "code",
   "execution_count": 32,
   "metadata": {},
   "outputs": [],
   "source": [
    "predictions = reg.predict(X_test_reg)\n",
    "errors = abs(predictions - y_test_reg.values)"
   ]
  },
  {
   "cell_type": "code",
   "execution_count": 33,
   "metadata": {},
   "outputs": [
    {
     "name": "stdout",
     "output_type": "stream",
     "text": [
      "Mean error: 17.433746319\n",
      "Error stddev: 25.0444735479\n"
     ]
    }
   ],
   "source": [
    "print(\"Mean error:\", np.mean(errors))\n",
    "print(\"Error stddev:\", np.std(errors))"
   ]
  },
  {
   "cell_type": "code",
   "execution_count": null,
   "metadata": {
    "collapsed": true
   },
   "outputs": [],
   "source": []
  },
  {
   "cell_type": "code",
   "execution_count": 34,
   "metadata": {
    "collapsed": true
   },
   "outputs": [],
   "source": [
    "import tensorflow as tf\n",
    "import tflearn"
   ]
  },
  {
   "cell_type": "code",
   "execution_count": 35,
   "metadata": {},
   "outputs": [],
   "source": [
    "inp = tflearn.input_data(shape=[None, 3])\n",
    "\n",
    "net = tflearn.fully_connected(inp, 64, activation=\"relu\")\n",
    "net = tflearn.fully_connected(net, 64, activation=\"relu\")\n",
    "net = tflearn.fully_connected(net, 32, activation=\"relu\")\n",
    "net = tflearn.fully_connected(net, 1, activation=\"relu\")\n",
    "net = tflearn.regression(net)\n",
    "\n",
    "model = tflearn.DNN(net)"
   ]
  },
  {
   "cell_type": "code",
   "execution_count": 36,
   "metadata": {},
   "outputs": [],
   "source": [
    "xvals = X_train_reg.values\n",
    "yvals = y_train_reg.values.reshape([-1, 1])"
   ]
  },
  {
   "cell_type": "code",
   "execution_count": 40,
   "metadata": {},
   "outputs": [
    {
     "data": {
      "text/plain": [
       "array([[214],\n",
       "       [190],\n",
       "       [198],\n",
       "       ..., \n",
       "       [193],\n",
       "       [198],\n",
       "       [220]])"
      ]
     },
     "execution_count": 40,
     "metadata": {},
     "output_type": "execute_result"
    }
   ],
   "source": [
    "yvals"
   ]
  },
  {
   "cell_type": "code",
   "execution_count": 37,
   "metadata": {},
   "outputs": [
    {
     "name": "stdout",
     "output_type": "stream",
     "text": [
      "Training Step: 629  | time: 0.225s\n",
      "| Adam | epoch: 010 | loss: 0.00000 -- iter: 3968/4000\n",
      "Training Step: 630  | time: 0.228s\n",
      "| Adam | epoch: 010 | loss: 0.00000 -- iter: 4000/4000\n",
      "--\n"
     ]
    }
   ],
   "source": [
    "model.fit(xvals, yvals)"
   ]
  },
  {
   "cell_type": "code",
   "execution_count": 38,
   "metadata": {},
   "outputs": [
    {
     "data": {
      "text/plain": [
       "array([[ 0.],\n",
       "       [ 0.],\n",
       "       [ 0.],\n",
       "       [ 0.],\n",
       "       [ 0.]], dtype=float32)"
      ]
     },
     "execution_count": 38,
     "metadata": {},
     "output_type": "execute_result"
    }
   ],
   "source": [
    "model.predict(X_test_reg[:5])"
   ]
  },
  {
   "cell_type": "code",
   "execution_count": 39,
   "metadata": {},
   "outputs": [
    {
     "data": {
      "text/plain": [
       "16634    220\n",
       "24564    195\n",
       "13511    200\n",
       "37816    190\n",
       "4209     195\n",
       "32504    210\n",
       "7282     193\n",
       "35007    190\n",
       "10521    190\n",
       "29588    201\n",
       "35071    195\n",
       "17094    198\n",
       "4873     188\n",
       "16133    190\n",
       "9299     220\n",
       "47720    220\n",
       "7498     198\n",
       "28681    106\n",
       "30919    205\n",
       "49479    178\n",
       "32177    186\n",
       "2753     205\n",
       "1920     213\n",
       "2612     216\n",
       "44006    200\n",
       "39136    205\n",
       "19515    190\n",
       "36282    190\n",
       "41279    200\n",
       "4311     195\n",
       "        ... \n",
       "13831    200\n",
       "24466    205\n",
       "1443     188\n",
       "28822    195\n",
       "41728    190\n",
       "22740    185\n",
       "45856    198\n",
       "16053    190\n",
       "22756    193\n",
       "41909    210\n",
       "29840    180\n",
       "19981    218\n",
       "31285    203\n",
       "16303    105\n",
       "12209    193\n",
       "4414      83\n",
       "25520    224\n",
       "3846     186\n",
       "43173    195\n",
       "11755    178\n",
       "7424     200\n",
       "40933    213\n",
       "10883    200\n",
       "34558    190\n",
       "45868    198\n",
       "46411    195\n",
       "30064    178\n",
       "2132     195\n",
       "37542    193\n",
       "29866    193\n",
       "Name: AVGCOST, Length: 1000, dtype: int64"
      ]
     },
     "execution_count": 39,
     "metadata": {},
     "output_type": "execute_result"
    }
   ],
   "source": [
    "y_test_reg"
   ]
  },
  {
   "cell_type": "code",
   "execution_count": null,
   "metadata": {
    "collapsed": true
   },
   "outputs": [],
   "source": []
  }
 ],
 "metadata": {
  "kernelspec": {
   "display_name": "Python 3",
   "language": "python",
   "name": "python3"
  },
  "language_info": {
   "codemirror_mode": {
    "name": "ipython",
    "version": 3
   },
   "file_extension": ".py",
   "mimetype": "text/x-python",
   "name": "python",
   "nbconvert_exporter": "python",
   "pygments_lexer": "ipython3",
   "version": "3.6.1"
  }
 },
 "nbformat": 4,
 "nbformat_minor": 2
}
