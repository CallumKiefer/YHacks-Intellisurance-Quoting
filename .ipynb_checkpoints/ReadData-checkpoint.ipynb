{
 "cells": [
  {
   "cell_type": "code",
   "execution_count": 1,
   "metadata": {
    "collapsed": true
   },
   "outputs": [],
   "source": [
    "import urllib.request\n",
    "import json\n",
    "import csv\n",
    "from copy import deepcopy"
   ]
  },
  {
   "cell_type": "code",
   "execution_count": 2,
   "metadata": {
    "collapsed": true
   },
   "outputs": [],
   "source": [
    "nRows = 1000"
   ]
  },
  {
   "cell_type": "code",
   "execution_count": 3,
   "metadata": {},
   "outputs": [],
   "source": [
    "participantUrl = \"https://v3v10.vitechinc.com/solr/v_participant/select?\" + \\\n",
    "    \"indent=on&wt=json\" + \\\n",
    "    \"&q=*:*\" + \\\n",
    "    \"&sort=id%20asc\" + \\\n",
    "    \"&rows=\" + str(nRows) + \\\n",
    "    \"&fl=id,city,DOB,address,latitude,longitude,sex,state,name\"\n",
    "participantData = urllib.request.urlopen(participantUrl).read()"
   ]
  },
  {
   "cell_type": "code",
   "execution_count": 4,
   "metadata": {},
   "outputs": [
    {
     "name": "stdout",
     "output_type": "stream",
     "text": [
      "Done\n"
     ]
    }
   ],
   "source": [
    "print(\"Done\")"
   ]
  },
  {
   "cell_type": "code",
   "execution_count": 5,
   "metadata": {},
   "outputs": [],
   "source": [
    "detailsURL = \"https://v3v10.vitechinc.com/solr/v_participant_detail/select?\" + \\\n",
    "    \"indent=on&wt=json\" + \\\n",
    "    \"&q=*:*\" + \\\n",
    "    \"&sort=id%20asc\" + \\\n",
    "    \"&rows=\" + str(nRows)\n",
    "detailsData = urllib.request.urlopen(detailsURL).read()"
   ]
  },
  {
   "cell_type": "code",
   "execution_count": 6,
   "metadata": {},
   "outputs": [
    {
     "name": "stdout",
     "output_type": "stream",
     "text": [
      "Done\n"
     ]
    }
   ],
   "source": [
    "print(\"Done\")"
   ]
  },
  {
   "cell_type": "code",
   "execution_count": 7,
   "metadata": {
    "collapsed": true
   },
   "outputs": [],
   "source": [
    "quotesURL = \"https://v3v10.vitechinc.com/solr/v_quotes/select?\" + \\\n",
    "    \"indent=on&wt=json\" + \\\n",
    "    \"&q=*:*\" + \\\n",
    "    \"&sort=id%20asc\" + \\\n",
    "    \"&rows=\" + str(nRows)\n",
    "quotesData = urllib.request.urlopen(quotesURL).read()"
   ]
  },
  {
   "cell_type": "code",
   "execution_count": 8,
   "metadata": {},
   "outputs": [
    {
     "name": "stdout",
     "output_type": "stream",
     "text": [
      "Done\n"
     ]
    }
   ],
   "source": [
    "print(\"Done\")"
   ]
  },
  {
   "cell_type": "code",
   "execution_count": 9,
   "metadata": {},
   "outputs": [],
   "source": [
    "participantData = json.loads(participantData)[\"response\"][\"docs\"]"
   ]
  },
  {
   "cell_type": "code",
   "execution_count": 10,
   "metadata": {},
   "outputs": [],
   "source": [
    "detailsData = json.loads(detailsData)[\"response\"][\"docs\"]"
   ]
  },
  {
   "cell_type": "code",
   "execution_count": 11,
   "metadata": {
    "collapsed": true
   },
   "outputs": [],
   "source": [
    "quotesData = json.loads(quotesData)[\"response\"][\"docs\"]"
   ]
  },
  {
   "cell_type": "code",
   "execution_count": 12,
   "metadata": {},
   "outputs": [
    {
     "name": "stdout",
     "output_type": "stream",
     "text": [
      "Done\n"
     ]
    }
   ],
   "source": [
    "print(\"Done\")"
   ]
  },
  {
   "cell_type": "code",
   "execution_count": 13,
   "metadata": {},
   "outputs": [],
   "source": [
    "idFormatted = {}\n",
    "for i in range(len(participantData)):\n",
    "    rowID = participantData[i][\"id\"]\n",
    "    idFormatted[rowID] = participantData[i]"
   ]
  },
  {
   "cell_type": "code",
   "execution_count": 14,
   "metadata": {
    "collapsed": true
   },
   "outputs": [],
   "source": [
    "for i in range(len(detailsData)):\n",
    "    rowID = detailsData[i][\"id\"]\n",
    "    for key in detailsData[i]:\n",
    "        idFormatted[rowID][key] = detailsData[i][key]"
   ]
  },
  {
   "cell_type": "code",
   "execution_count": 15,
   "metadata": {
    "collapsed": true
   },
   "outputs": [],
   "source": [
    "for i in range(len(quotesData)):\n",
    "    rowID = quotesData[i][\"id\"]\n",
    "    for key in quotesData[i]:\n",
    "        idFormatted[rowID][key] = quotesData[i][key]"
   ]
  },
  {
   "cell_type": "code",
   "execution_count": 16,
   "metadata": {
    "collapsed": true
   },
   "outputs": [],
   "source": [
    "for key in idFormatted:\n",
    "    del idFormatted[key][\"id\"]\n",
    "    del idFormatted[key][\"EMPLOYMENT_STATUS\"]"
   ]
  },
  {
   "cell_type": "code",
   "execution_count": 17,
   "metadata": {},
   "outputs": [
    {
     "data": {
      "text/plain": [
       "{'ANNUAL_INCOME': 100000,\n",
       " 'BRONZE': 32,\n",
       " 'DOB': '1996-07-08T22:11:38Z',\n",
       " 'EMPLOYMENT_STATUS': 'Unemployed',\n",
       " 'GOLD': 87,\n",
       " 'HEIGHT': 65,\n",
       " 'MARITAL_STATUS': 'M',\n",
       " 'OPTIONAL_INSURED': 600000,\n",
       " 'PEOPLE_COVERED': 3,\n",
       " 'PLATINUM': 131,\n",
       " 'PRE_CONDITIONS': '[{\"condition_name\":\"Unspecified fracture of specified metacarpal bone with unspecified laterality\",\"ICD_CODE\":\"S62.308\",\"Risk_factor\":\"Low\"},{\"condition_name\":\"Ataxic cerebral palsy\",\"ICD_CODE\":\"G80.4\",\"Risk_factor\":\"Medium\"},{\"condition_name\":\"Other abnormalities of heart beat\",\"ICD_CODE\":\"R00.8\",\"Risk_factor\":\"Low\"},{\"condition_name\":\"Displacement of permanent\\xa0sutures, initial encounter\",\"ICD_CODE\":\"T85.622\",\"Risk_factor\":\"Low\"},{\"condition_name\":\"Peanut Allergy\",\"ICD_CODE\":\"Z91.010\",\"Risk_factor\":\"Low\"},{\"condition_name\":\"Broken internal left hip prosthesis, initial encounter\",\"ICD_CODE\":\"T84.011\",\"Risk_factor\":\"Low\"},{\"condition_name\":\"cough with hemorrhage\",\"ICD_CODE\":\"R04.2\",\"Risk_factor\":\"Low\"},{\"condition_name\":\"Obstructive Sleep Apnea\",\"ICD_CODE\":\"G47.33\",\"Risk_factor\":\"Low\"},{\"condition_name\":\"Tachycardia, unspecified\",\"ICD_CODE\":\"R00.0\",\"Risk_factor\":\"Low\"},{\"condition_name\":\"Diarrhea, unspecified\",\"ICD_CODE\":\"R19.7\",\"Risk_factor\":\"Low\"}]',\n",
       " 'PURCHASED': 'Bronze',\n",
       " 'SILVER': 54,\n",
       " 'TOBACCO': 'No',\n",
       " 'WEIGHT': 126,\n",
       " 'address': '316 CROUCH STREET',\n",
       " 'city': 'Sanders',\n",
       " 'collection_id': 'v_quotes',\n",
       " 'latitude': 35,\n",
       " 'longitude': -109,\n",
       " 'name': 'MOS,JERN M',\n",
       " 'sex': 'F',\n",
       " 'state': 'Arizona'}"
      ]
     },
     "execution_count": 17,
     "metadata": {},
     "output_type": "execute_result"
    }
   ],
   "source": [
    "idFormatted[\"1\"]"
   ]
  },
  {
   "cell_type": "code",
   "execution_count": 18,
   "metadata": {},
   "outputs": [
    {
     "data": {
      "text/plain": [
       "{'ANNUAL_INCOME': 200000,\n",
       " 'BRONZE': 30,\n",
       " 'DOB': '1997-11-08T22:11:38Z',\n",
       " 'EMPLOYMENT_STATUS': 'Unemployed',\n",
       " 'GOLD': 80,\n",
       " 'HEIGHT': 76,\n",
       " 'MARITAL_STATUS': 'S',\n",
       " 'OPTIONAL_INSURED': 800000,\n",
       " 'PEOPLE_COVERED': 1,\n",
       " 'PLATINUM': 120,\n",
       " 'PRE_CONDITIONS': '[{\"condition_name\":\"Unspecified fracture of specified metacarpal bone with unspecified laterality\",\"ICD_CODE\":\"S62.308\",\"Risk_factor\":\"Low\"},{\"condition_name\":\"Ataxic cerebral palsy\",\"ICD_CODE\":\"G80.4\",\"Risk_factor\":\"Medium\"},{\"condition_name\":\"Other abnormalities of heart beat\",\"ICD_CODE\":\"R00.8\",\"Risk_factor\":\"Low\"},{\"condition_name\":\"Displacement of permanent\\xa0sutures, initial encounter\",\"ICD_CODE\":\"T85.622\",\"Risk_factor\":\"Low\"},{\"condition_name\":\"Peanut Allergy\",\"ICD_CODE\":\"Z91.010\",\"Risk_factor\":\"Low\"},{\"condition_name\":\"Broken internal left hip prosthesis, initial encounter\",\"ICD_CODE\":\"T84.011\",\"Risk_factor\":\"Low\"},{\"condition_name\":\"cough with hemorrhage\",\"ICD_CODE\":\"R04.2\",\"Risk_factor\":\"Low\"},{\"condition_name\":\"Obstructive Sleep Apnea\",\"ICD_CODE\":\"G47.33\",\"Risk_factor\":\"Low\"},{\"condition_name\":\"Tachycardia, unspecified\",\"ICD_CODE\":\"R00.0\",\"Risk_factor\":\"Low\"},{\"condition_name\":\"Diarrhea, unspecified\",\"ICD_CODE\":\"R19.7\",\"Risk_factor\":\"Low\"}]',\n",
       " 'PURCHASED': 'Silver',\n",
       " 'SILVER': 50,\n",
       " 'TOBACCO': 'No',\n",
       " 'WEIGHT': 158,\n",
       " 'address': '5156 N WEST',\n",
       " 'city': 'Quartzsite',\n",
       " 'collection_id': 'v_quotes',\n",
       " 'latitude': 34,\n",
       " 'longitude': -114,\n",
       " 'name': 'POLITOVICH,ACHAEE A',\n",
       " 'sex': 'M',\n",
       " 'state': 'Arizona'}"
      ]
     },
     "execution_count": 18,
     "metadata": {},
     "output_type": "execute_result"
    }
   ],
   "source": [
    "idFormatted[\"100\"]"
   ]
  },
  {
   "cell_type": "code",
   "execution_count": 23,
   "metadata": {},
   "outputs": [
    {
     "name": "stdout",
     "output_type": "stream",
     "text": [
      "10\n",
      "10\n",
      "10\n",
      "10\n",
      "10\n",
      "10\n",
      "10\n",
      "10\n",
      "10\n",
      "10\n"
     ]
    }
   ],
   "source": [
    "# writeData = deepcopy(idFormatted)\n",
    "\n",
    "# for key in writeData:\n",
    "#     writeData[key][\"EMPLOYMENT_STATUS\"] = len(writeData[key][\"EMPLOYMENT_STATUS\"])"
   ]
  },
  {
   "cell_type": "code",
   "execution_count": 24,
   "metadata": {},
   "outputs": [
    {
     "data": {
      "text/plain": [
       "{'ANNUAL_INCOME': 300000,\n",
       " 'BRONZE': 27,\n",
       " 'DOB': '1999-05-08T22:11:38Z',\n",
       " 'EMPLOYMENT_STATUS': 10,\n",
       " 'GOLD': 77,\n",
       " 'HEIGHT': 77,\n",
       " 'MARITAL_STATUS': 'M',\n",
       " 'OPTIONAL_INSURED': 700000,\n",
       " 'PEOPLE_COVERED': 1,\n",
       " 'PLATINUM': 117,\n",
       " 'PRE_CONDITIONS': '[{\"condition_name\":\"Unspecified fracture of specified metacarpal bone with unspecified laterality\",\"ICD_CODE\":\"S62.308\",\"Risk_factor\":\"Low\"},{\"condition_name\":\"Ataxic cerebral palsy\",\"ICD_CODE\":\"G80.4\",\"Risk_factor\":\"Medium\"},{\"condition_name\":\"Other abnormalities of heart beat\",\"ICD_CODE\":\"R00.8\",\"Risk_factor\":\"Low\"},{\"condition_name\":\"Displacement of permanent\\xa0sutures, initial encounter\",\"ICD_CODE\":\"T85.622\",\"Risk_factor\":\"Low\"},{\"condition_name\":\"Peanut Allergy\",\"ICD_CODE\":\"Z91.010\",\"Risk_factor\":\"Low\"},{\"condition_name\":\"Broken internal left hip prosthesis, initial encounter\",\"ICD_CODE\":\"T84.011\",\"Risk_factor\":\"Low\"},{\"condition_name\":\"cough with hemorrhage\",\"ICD_CODE\":\"R04.2\",\"Risk_factor\":\"Low\"},{\"condition_name\":\"Obstructive Sleep Apnea\",\"ICD_CODE\":\"G47.33\",\"Risk_factor\":\"Low\"},{\"condition_name\":\"Tachycardia, unspecified\",\"ICD_CODE\":\"R00.0\",\"Risk_factor\":\"Low\"},{\"condition_name\":\"Diarrhea, unspecified\",\"ICD_CODE\":\"R19.7\",\"Risk_factor\":\"Low\"}]',\n",
       " 'PURCHASED': 'Bronze',\n",
       " 'SILVER': 47,\n",
       " 'TOBACCO': 'No',\n",
       " 'WEIGHT': 137,\n",
       " 'address': '1480 E 23RD',\n",
       " 'city': 'Tsaile',\n",
       " 'collection_id': 'v_quotes',\n",
       " 'latitude': 36,\n",
       " 'longitude': -109,\n",
       " 'name': 'KLUTSCH,NELIDA Z',\n",
       " 'sex': 'M',\n",
       " 'state': 'Arizona'}"
      ]
     },
     "execution_count": 24,
     "metadata": {},
     "output_type": "execute_result"
    }
   ],
   "source": [
    "writeData[\"10\"]"
   ]
  },
  {
   "cell_type": "code",
   "execution_count": 37,
   "metadata": {},
   "outputs": [],
   "source": [
    "header = [key for key in writeData[\"1\"]]\n",
    "header.insert(0, \"id\")\n",
    "\n",
    "with open('data.csv', 'w') as csv_file:\n",
    "    writer = csv.writer(csv_file)\n",
    "    writer.writerow(header)\n",
    "    for key, value in writeData.items():\n",
    "        rowVals = [value[inKey] for inKey in value]\n",
    "        rowVals.insert(0, key)\n",
    "        writer.writerow(rowVals)"
   ]
  },
  {
   "cell_type": "code",
   "execution_count": 29,
   "metadata": {},
   "outputs": [
    {
     "data": {
      "text/plain": [
       "[b'city',\n",
       " b'DOB',\n",
       " b'address',\n",
       " b'longitude',\n",
       " b'sex',\n",
       " b'state',\n",
       " b'latitude',\n",
       " b'name',\n",
       " b'EMPLOYMENT_STATUS',\n",
       " b'PRE_CONDITIONS',\n",
       " b'PEOPLE_COVERED',\n",
       " b'OPTIONAL_INSURED',\n",
       " b'ANNUAL_INCOME',\n",
       " b'MARITAL_STATUS',\n",
       " b'HEIGHT',\n",
       " b'WEIGHT',\n",
       " b'TOBACCO',\n",
       " b'collection_id',\n",
       " b'GOLD',\n",
       " b'BRONZE',\n",
       " b'SILVER',\n",
       " b'PLATINUM',\n",
       " b'PURCHASED']"
      ]
     },
     "execution_count": 29,
     "metadata": {},
     "output_type": "execute_result"
    }
   ],
   "source": [
    "header"
   ]
  },
  {
   "cell_type": "code",
   "execution_count": null,
   "metadata": {
    "collapsed": true
   },
   "outputs": [],
   "source": []
  }
 ],
 "metadata": {
  "kernelspec": {
   "display_name": "Python 3",
   "language": "python",
   "name": "python3"
  },
  "language_info": {
   "codemirror_mode": {
    "name": "ipython",
    "version": 3
   },
   "file_extension": ".py",
   "mimetype": "text/x-python",
   "name": "python",
   "nbconvert_exporter": "python",
   "pygments_lexer": "ipython3",
   "version": "3.6.1"
  }
 },
 "nbformat": 4,
 "nbformat_minor": 2
}
